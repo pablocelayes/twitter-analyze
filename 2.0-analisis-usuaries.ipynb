{
 "cells": [
  {
   "cell_type": "code",
   "execution_count": 1,
   "metadata": {},
   "outputs": [],
   "source": [
    "collection = \"tweets_fernandezfernandez\""
   ]
  },
  {
   "cell_type": "code",
   "execution_count": 2,
   "metadata": {
    "colab": {
     "autoexec": {
      "startup": false,
      "wait_interval": 0
     }
    },
    "colab_type": "code",
    "id": "xILzsBEsKl-R"
   },
   "outputs": [],
   "source": [
    "%matplotlib inline\n",
    "import pandas as pd\n",
    "pd.set_option('display.max_colwidth', -1)\n",
    "pd.set_option('display.max_rows', 999)"
   ]
  },
  {
   "cell_type": "code",
   "execution_count": 3,
   "metadata": {},
   "outputs": [],
   "source": [
    "users = pd.read_csv('./csvs/%s_users.csv' % collection, encoding='utf8')\n",
    "users['created_at'] = pd.to_datetime(users['created_at'],\n",
    "                                      format=\"%a %b %d %H:%M:%S +0000 %Y\")"
   ]
  },
  {
   "cell_type": "code",
   "execution_count": 4,
   "metadata": {},
   "outputs": [],
   "source": [
    "tweets = pd.read_csv('./csvs/%s_tweets.csv' % collection, encoding='utf8')"
   ]
  },
  {
   "cell_type": "markdown",
   "metadata": {},
   "source": [
    "## Análisis usuari@s"
   ]
  },
  {
   "cell_type": "code",
   "execution_count": 5,
   "metadata": {},
   "outputs": [
    {
     "data": {
      "text/plain": [
       "36858"
      ]
     },
     "execution_count": 5,
     "metadata": {},
     "output_type": "execute_result"
    }
   ],
   "source": [
    "len(users)"
   ]
  },
  {
   "cell_type": "code",
   "execution_count": 6,
   "metadata": {},
   "outputs": [
    {
     "data": {
      "text/plain": [
       "'Mon May 20 00:00:01 +0000 2019'"
      ]
     },
     "execution_count": 6,
     "metadata": {},
     "output_type": "execute_result"
    }
   ],
   "source": [
    "tweets.created_at.min()"
   ]
  },
  {
   "cell_type": "code",
   "execution_count": 7,
   "metadata": {},
   "outputs": [
    {
     "data": {
      "text/plain": [
       "'Sun May 19 23:59:59 +0000 2019'"
      ]
     },
     "execution_count": 7,
     "metadata": {},
     "output_type": "execute_result"
    }
   ],
   "source": [
    "tweets.created_at.max()"
   ]
  },
  {
   "cell_type": "markdown",
   "metadata": {
    "colab_type": "text",
    "id": "nhyr_pFOpt0j"
   },
   "source": [
    "## más activ@s"
   ]
  },
  {
   "cell_type": "code",
   "execution_count": 8,
   "metadata": {},
   "outputs": [
    {
     "data": {
      "text/html": [
       "<div>\n",
       "<style scoped>\n",
       "    .dataframe tbody tr th:only-of-type {\n",
       "        vertical-align: middle;\n",
       "    }\n",
       "\n",
       "    .dataframe tbody tr th {\n",
       "        vertical-align: top;\n",
       "    }\n",
       "\n",
       "    .dataframe thead th {\n",
       "        text-align: right;\n",
       "    }\n",
       "</style>\n",
       "<table border=\"1\" class=\"dataframe\">\n",
       "  <thead>\n",
       "    <tr style=\"text-align: right;\">\n",
       "      <th></th>\n",
       "      <th>screen_name</th>\n",
       "      <th>description</th>\n",
       "      <th>n_tweets</th>\n",
       "      <th>followers_count</th>\n",
       "    </tr>\n",
       "  </thead>\n",
       "  <tbody>\n",
       "    <tr>\n",
       "      <th>102</th>\n",
       "      <td>delrosario1955</td>\n",
       "      <td>None</td>\n",
       "      <td>323</td>\n",
       "      <td>2927</td>\n",
       "    </tr>\n",
       "    <tr>\n",
       "      <th>14495</th>\n",
       "      <td>GriseldaMafalda</td>\n",
       "      <td>None</td>\n",
       "      <td>224</td>\n",
       "      <td>1964</td>\n",
       "    </tr>\n",
       "    <tr>\n",
       "      <th>1132</th>\n",
       "      <td>VickyMahiet</td>\n",
       "      <td>Merecer la vida no es callar y consentir,  Tantas injusticias repetidas...  ¡Es una virtud, es dignidad!  Y es la actitud de identidad ¡más definida!</td>\n",
       "      <td>220</td>\n",
       "      <td>491</td>\n",
       "    </tr>\n",
       "    <tr>\n",
       "      <th>72</th>\n",
       "      <td>Jacki13253805</td>\n",
       "      <td>Peronista.✌️🐧🌞🛒🇦🇷HAY 2.019 Doy RT. Y leo a todos para estar informada. También bloqueo troll . avisen. #TropaK ✌️✌️</td>\n",
       "      <td>145</td>\n",
       "      <td>2703</td>\n",
       "    </tr>\n",
       "    <tr>\n",
       "      <th>6138</th>\n",
       "      <td>chicho9914</td>\n",
       "      <td>None</td>\n",
       "      <td>142</td>\n",
       "      <td>666</td>\n",
       "    </tr>\n",
       "    <tr>\n",
       "      <th>3665</th>\n",
       "      <td>Angelisabet1</td>\n",
       "      <td>None</td>\n",
       "      <td>139</td>\n",
       "      <td>245</td>\n",
       "    </tr>\n",
       "    <tr>\n",
       "      <th>14339</th>\n",
       "      <td>RobertoCGonzal6</td>\n",
       "      <td>#TropaK</td>\n",
       "      <td>137</td>\n",
       "      <td>668</td>\n",
       "    </tr>\n",
       "    <tr>\n",
       "      <th>7229</th>\n",
       "      <td>exegetha2</td>\n",
       "      <td>None</td>\n",
       "      <td>129</td>\n",
       "      <td>402</td>\n",
       "    </tr>\n",
       "    <tr>\n",
       "      <th>2744</th>\n",
       "      <td>Etheliiinaaa</td>\n",
       "      <td>busco almas que me acompañen a desentrañar el misterio del universo , q florezcan Mil Flores 💐 NK, Seamos Lbres y lo demás no importa nada,San Martin</td>\n",
       "      <td>120</td>\n",
       "      <td>2810</td>\n",
       "    </tr>\n",
       "    <tr>\n",
       "      <th>12601</th>\n",
       "      <td>El__errante</td>\n",
       "      <td>...le ha tocado pasarse la vida...       ...a solas...  con su corazón......</td>\n",
       "      <td>120</td>\n",
       "      <td>733</td>\n",
       "    </tr>\n",
       "  </tbody>\n",
       "</table>\n",
       "</div>"
      ],
      "text/plain": [
       "           screen_name  \\\n",
       "102    delrosario1955    \n",
       "14495  GriseldaMafalda   \n",
       "1132   VickyMahiet       \n",
       "72     Jacki13253805     \n",
       "6138   chicho9914        \n",
       "3665   Angelisabet1      \n",
       "14339  RobertoCGonzal6   \n",
       "7229   exegetha2         \n",
       "2744   Etheliiinaaa      \n",
       "12601  El__errante       \n",
       "\n",
       "                                                                                                                                                 description  \\\n",
       "102    None                                                                                                                                                    \n",
       "14495  None                                                                                                                                                    \n",
       "1132   Merecer la vida no es callar y consentir,  Tantas injusticias repetidas...  ¡Es una virtud, es dignidad!  Y es la actitud de identidad ¡más definida!   \n",
       "72     Peronista.✌️🐧🌞🛒🇦🇷HAY 2.019 Doy RT. Y leo a todos para estar informada. También bloqueo troll . avisen. #TropaK ✌️✌️                                     \n",
       "6138   None                                                                                                                                                    \n",
       "3665   None                                                                                                                                                    \n",
       "14339  #TropaK                                                                                                                                                 \n",
       "7229   None                                                                                                                                                    \n",
       "2744   busco almas que me acompañen a desentrañar el misterio del universo , q florezcan Mil Flores 💐 NK, Seamos Lbres y lo demás no importa nada,San Martin   \n",
       "12601  ...le ha tocado pasarse la vida...       ...a solas...  con su corazón......                                                                            \n",
       "\n",
       "       n_tweets  followers_count  \n",
       "102    323       2927             \n",
       "14495  224       1964             \n",
       "1132   220       491              \n",
       "72     145       2703             \n",
       "6138   142       666              \n",
       "3665   139       245              \n",
       "14339  137       668              \n",
       "7229   129       402              \n",
       "2744   120       2810             \n",
       "12601  120       733              "
      ]
     },
     "execution_count": 8,
     "metadata": {},
     "output_type": "execute_result"
    }
   ],
   "source": [
    "n_tweets = tweets.user_id.value_counts()\n",
    "users['n_tweets'] = users.id.apply(lambda i: n_tweets[i])\n",
    "users.sort_values(by='n_tweets', ascending=False).head(10)[\n",
    "   [\"screen_name\",  \"description\", \"n_tweets\", \"followers_count\"]\n",
    "]"
   ]
  },
  {
   "cell_type": "markdown",
   "metadata": {},
   "source": [
    "## Fechas de creación de perfiles"
   ]
  },
  {
   "cell_type": "code",
   "execution_count": 9,
   "metadata": {},
   "outputs": [
    {
     "name": "stderr",
     "output_type": "stream",
     "text": [
      "/anaconda3/envs/escucha-tec-notebooks/lib/python3.6/site-packages/pandas/plotting/_converter.py:129: FutureWarning: Using an implicitly registered datetime converter for a matplotlib plotting method. The converter was registered by pandas on import. Future versions of pandas will require you to explicitly register matplotlib converters.\n",
      "\n",
      "To register the converters:\n",
      "\t>>> from pandas.plotting import register_matplotlib_converters\n",
      "\t>>> register_matplotlib_converters()\n",
      "  warnings.warn(msg, FutureWarning)\n"
     ]
    },
    {
     "data": {
      "text/plain": [
       "<matplotlib.axes._subplots.AxesSubplot at 0x11c700f60>"
      ]
     },
     "execution_count": 9,
     "metadata": {},
     "output_type": "execute_result"
    },
    {
     "data": {
      "image/png": "[encoded data removed]",
      "text/plain": [
       "<Figure size 432x288 with 1 Axes>"
      ]
     },
     "metadata": {
      "needs_background": "light"
     },
     "output_type": "display_data"
    }
   ],
   "source": [
    "users.created_at.hist(bins=30)"
   ]
  },
  {
   "cell_type": "markdown",
   "metadata": {},
   "source": [
    "## Cuentas verificadas"
   ]
  },
  {
   "cell_type": "code",
   "execution_count": 10,
   "metadata": {},
   "outputs": [
    {
     "data": {
      "text/plain": [
       "False    36788\n",
       "True     70   \n",
       "Name: verified, dtype: int64"
      ]
     },
     "execution_count": 10,
     "metadata": {},
     "output_type": "execute_result"
    }
   ],
   "source": [
    "users.verified.value_counts()"
   ]
  },
  {
   "cell_type": "code",
   "execution_count": 11,
   "metadata": {},
   "outputs": [],
   "source": [
    "verified = users[users.verified]"
   ]
  },
  {
   "cell_type": "code",
   "execution_count": 12,
   "metadata": {},
   "outputs": [
    {
     "data": {
      "text/html": [
       "<div>\n",
       "<style scoped>\n",
       "    .dataframe tbody tr th:only-of-type {\n",
       "        vertical-align: middle;\n",
       "    }\n",
       "\n",
       "    .dataframe tbody tr th {\n",
       "        vertical-align: top;\n",
       "    }\n",
       "\n",
       "    .dataframe thead th {\n",
       "        text-align: right;\n",
       "    }\n",
       "</style>\n",
       "<table border=\"1\" class=\"dataframe\">\n",
       "  <thead>\n",
       "    <tr style=\"text-align: right;\">\n",
       "      <th></th>\n",
       "      <th>screen_name</th>\n",
       "      <th>description</th>\n",
       "      <th>n_tweets</th>\n",
       "      <th>followers_count</th>\n",
       "    </tr>\n",
       "  </thead>\n",
       "  <tbody>\n",
       "    <tr>\n",
       "      <th>3837</th>\n",
       "      <td>perfilcom</td>\n",
       "      <td>Noticias desde Buenos Aires, Argentina. Periodismo puro en tiempo real.</td>\n",
       "      <td>11</td>\n",
       "      <td>756817</td>\n",
       "    </tr>\n",
       "    <tr>\n",
       "      <th>46</th>\n",
       "      <td>vtolosapaz</td>\n",
       "      <td>Concejal de mi querida ciudad de #LaPlata #UnidadCiudadana      Instagram: http://instagram.com/vtolosapaz/   Facebook: http://facebook.com/vtolosapaz/</td>\n",
       "      <td>10</td>\n",
       "      <td>22791</td>\n",
       "    </tr>\n",
       "    <tr>\n",
       "      <th>9818</th>\n",
       "      <td>luisbremer</td>\n",
       "      <td>Periodista</td>\n",
       "      <td>7</td>\n",
       "      <td>391666</td>\n",
       "    </tr>\n",
       "    <tr>\n",
       "      <th>28480</th>\n",
       "      <td>rmathus</td>\n",
       "      <td>US Correspondent for @LANACION. My tweets, my opinions. MDZ-MAD-BUE-Brooklyn🙌🏻-DC</td>\n",
       "      <td>5</td>\n",
       "      <td>6133</td>\n",
       "    </tr>\n",
       "    <tr>\n",
       "      <th>21283</th>\n",
       "      <td>leobilanski</td>\n",
       "      <td>Polémico, Argentino nativo, latinoamericano adoptivo Pte en @EnacArgentina y #antiCEO en @EmpresarialARG 💪 Ni Aristocracia ni Ceocracia, Democracia</td>\n",
       "      <td>5</td>\n",
       "      <td>59463</td>\n",
       "    </tr>\n",
       "    <tr>\n",
       "      <th>17052</th>\n",
       "      <td>radioconvos899</td>\n",
       "      <td>FM 89.9 · Escuchanos también online http://www.radioconvos.com.ar o por la app radioconvos | Escribinos tu mensaje Wtspp 15-5379-8990 Insta/Face: radioconvos899</td>\n",
       "      <td>5</td>\n",
       "      <td>109315</td>\n",
       "    </tr>\n",
       "    <tr>\n",
       "      <th>16342</th>\n",
       "      <td>ConclusionRos</td>\n",
       "      <td>Diario digital Rosario 🗞️💻🇦🇷// Libertad con Responsabilidad // #Ciudad #Deportes #Política #Mundo #Economía #Espectáculos #Policiales #Tecnología</td>\n",
       "      <td>5</td>\n",
       "      <td>19471</td>\n",
       "    </tr>\n",
       "    <tr>\n",
       "      <th>35774</th>\n",
       "      <td>fjueguen</td>\n",
       "      <td>Periodista en La Nacion, publiqué un libro sobre el #Indec, licenciado en Comunicación Social de la UBA. De #Boca. https://www.instagram.com/fjueguen 🏄‍♂️</td>\n",
       "      <td>3</td>\n",
       "      <td>21286</td>\n",
       "    </tr>\n",
       "    <tr>\n",
       "      <th>34695</th>\n",
       "      <td>pietragallahora</td>\n",
       "      <td>Militante en la Defensa de los Derechos Humanos, Diputado Nacional @UniCiudadanaAr 🇦🇷 por la Provincia de Buenos Aires. La Cámpora @AbuelasDifusion mi Familia</td>\n",
       "      <td>3</td>\n",
       "      <td>47343</td>\n",
       "    </tr>\n",
       "    <tr>\n",
       "      <th>34043</th>\n",
       "      <td>Radio10</td>\n",
       "      <td>Cuenta de Radio 10 AM 710 | https://www.facebook.com/radio10/ https://www.pscp.tv/Radio10AM710 Bajate la #App http://minutouno.com  [Whatsapp] 1150050710</td>\n",
       "      <td>3</td>\n",
       "      <td>286022</td>\n",
       "    </tr>\n",
       "    <tr>\n",
       "      <th>31441</th>\n",
       "      <td>felipe_sola</td>\n",
       "      <td>Ingeniero agrónomo. Diputado Nacional. Creo en la cultura del encuentro. Trabajo por un país más justo. #EsConTodos</td>\n",
       "      <td>3</td>\n",
       "      <td>193359</td>\n",
       "    </tr>\n",
       "    <tr>\n",
       "      <th>2407</th>\n",
       "      <td>A24COM</td>\n",
       "      <td>Cuenta oficial de la señal de noticias A24. Mantenete informado en  http://a24.com</td>\n",
       "      <td>3</td>\n",
       "      <td>451168</td>\n",
       "    </tr>\n",
       "    <tr>\n",
       "      <th>14395</th>\n",
       "      <td>FilmusDaniel</td>\n",
       "      <td>Diputado nacional por la CABA Unidad Porteña bloque @DiputadosFPV_pj. Ex ministro de Educación. Sociólogo. Profesor de la UBA. Hincha de @SanLorenzo.</td>\n",
       "      <td>3</td>\n",
       "      <td>333585</td>\n",
       "    </tr>\n",
       "    <tr>\n",
       "      <th>10917</th>\n",
       "      <td>FernandezAnibal</td>\n",
       "      <td>Peronista, abogado y contador, ricotero, hincha de Quilmes. NK y CFK esencia del peronismo. NO QUIERAN INVENTAR</td>\n",
       "      <td>3</td>\n",
       "      <td>983217</td>\n",
       "    </tr>\n",
       "    <tr>\n",
       "      <th>36218</th>\n",
       "      <td>noticiasrevista</td>\n",
       "      <td>Bienvenidos a la cuenta oficial de Revista Noticias, el newsmagazine de lengua hispana más leído del mundo.</td>\n",
       "      <td>3</td>\n",
       "      <td>267124</td>\n",
       "    </tr>\n",
       "    <tr>\n",
       "      <th>6369</th>\n",
       "      <td>diputadasoraire</td>\n",
       "      <td>Diputada Nacional por la Prov. de Tucumán. FPV-PJ . Militante del Movimiento Nacional Justicialista. Secretaria en la Comisión de Relaciones Exteriores y Culto</td>\n",
       "      <td>3</td>\n",
       "      <td>896</td>\n",
       "    </tr>\n",
       "    <tr>\n",
       "      <th>8550</th>\n",
       "      <td>RicBenedetti</td>\n",
       "      <td>Escritor. Casado, 4 hijos. Coordinador de Análisis y Control de Gestión del @SFMyC. Miembro del @CPA_Arg 💙💛💙  http://instagram.com/ricbenedetti</td>\n",
       "      <td>2</td>\n",
       "      <td>89544</td>\n",
       "    </tr>\n",
       "    <tr>\n",
       "      <th>7618</th>\n",
       "      <td>VitoMundial</td>\n",
       "      <td>Periodista. Prosecretario Redacción Diario La Capital Mar del Plata, comentarista LU6 Radio Atlántica, 8 mundiales,2 libros. Abrazo Ciudadano. Unidad Ciudadana.</td>\n",
       "      <td>2</td>\n",
       "      <td>9754</td>\n",
       "    </tr>\n",
       "    <tr>\n",
       "      <th>30300</th>\n",
       "      <td>izquierdadiario</td>\n",
       "      <td>El primer diario digital de la izquierda, impulsado por el @PTSarg en el @Fte_Izquierda.  Hacemos radio en @circulorojo899. 📻 https://t.co/C07DJntIJA</td>\n",
       "      <td>2</td>\n",
       "      <td>61402</td>\n",
       "    </tr>\n",
       "    <tr>\n",
       "      <th>17681</th>\n",
       "      <td>guillermomadero</td>\n",
       "      <td>Lic. en Ciencia Política, diplomado Seguridad y Defensa. Director de Seguridad en Espectáculos Futbolísticos del @MinSeg donde trabajo por una #TribunaSegura</td>\n",
       "      <td>2</td>\n",
       "      <td>13049</td>\n",
       "    </tr>\n",
       "    <tr>\n",
       "      <th>17312</th>\n",
       "      <td>connieansaldi</td>\n",
       "      <td>Yo 🚀👉🏻 http://nuclearbranding.com Consultoría . Estrategias Creativas para una Nueva Era. DESIGN THINKER 💡</td>\n",
       "      <td>2</td>\n",
       "      <td>1483880</td>\n",
       "    </tr>\n",
       "    <tr>\n",
       "      <th>27095</th>\n",
       "      <td>DelfinoLucasOk</td>\n",
       "      <td>Papá de Olivia | Vecino y Concejal de #Hurlingham | SS de Rel. Municipales de la Nación | Politólogo | Además escribí un libro #LaRevolucionDeLosMunicipios 📚</td>\n",
       "      <td>2</td>\n",
       "      <td>26950</td>\n",
       "    </tr>\n",
       "    <tr>\n",
       "      <th>6653</th>\n",
       "      <td>BarbieriVero</td>\n",
       "      <td>Lic. en Gobierno y RRII / Diputada Provincial / Presidenta de la Comisión de Políticas Sociales / Presidenta JPro Buenos Aires /</td>\n",
       "      <td>2</td>\n",
       "      <td>9787</td>\n",
       "    </tr>\n",
       "    <tr>\n",
       "      <th>34213</th>\n",
       "      <td>nciudad</td>\n",
       "      <td>El sitio de noticias porteñas más leído en las redes sociales</td>\n",
       "      <td>2</td>\n",
       "      <td>34860</td>\n",
       "    </tr>\n",
       "    <tr>\n",
       "      <th>14828</th>\n",
       "      <td>RCSalvarezza</td>\n",
       "      <td>Diputado Nacional por la Provincia de Buenos Aires #UnidadCiudadana. Doctor en Bioquímica. Ex presidente del CONICET (2012-2015).</td>\n",
       "      <td>2</td>\n",
       "      <td>14716</td>\n",
       "    </tr>\n",
       "    <tr>\n",
       "      <th>29286</th>\n",
       "      <td>UniCiudadanaAR</td>\n",
       "      <td>Unite. Hay otro camino ☀️</td>\n",
       "      <td>2</td>\n",
       "      <td>126250</td>\n",
       "    </tr>\n",
       "    <tr>\n",
       "      <th>32499</th>\n",
       "      <td>AngeldebritoOk</td>\n",
       "      <td>@losangeles_ok #LAM @eltrecetv 1030 AM #ElEspectador @cnnradioarg AM950 2PM</td>\n",
       "      <td>2</td>\n",
       "      <td>3135740</td>\n",
       "    </tr>\n",
       "    <tr>\n",
       "      <th>8913</th>\n",
       "      <td>Gatosylvestre</td>\n",
       "      <td>Periodista. Analista político. Conductor de Mañana Sylvestre en Radio 10 (L a V 6 a 10hs)y de M1 en @c5n, de 20 a 22 de Lunes a Viernes</td>\n",
       "      <td>2</td>\n",
       "      <td>426065</td>\n",
       "    </tr>\n",
       "    <tr>\n",
       "      <th>28818</th>\n",
       "      <td>FedericoAchaval</td>\n",
       "      <td>Concejal de Pilar</td>\n",
       "      <td>2</td>\n",
       "      <td>17202</td>\n",
       "    </tr>\n",
       "    <tr>\n",
       "      <th>10921</th>\n",
       "      <td>populardiario</td>\n",
       "      <td>Bienvenidos al Twitter oficial de Popular. Seguinos y sumate a nuestra comunidad. Las noticias como a vos te gustan. #SomosPopu</td>\n",
       "      <td>2</td>\n",
       "      <td>74830</td>\n",
       "    </tr>\n",
       "  </tbody>\n",
       "</table>\n",
       "</div>"
      ],
      "text/plain": [
       "           screen_name  \\\n",
       "3837   perfilcom         \n",
       "46     vtolosapaz        \n",
       "9818   luisbremer        \n",
       "28480  rmathus           \n",
       "21283  leobilanski       \n",
       "17052  radioconvos899    \n",
       "16342  ConclusionRos     \n",
       "35774  fjueguen          \n",
       "34695  pietragallahora   \n",
       "34043  Radio10           \n",
       "31441  felipe_sola       \n",
       "2407   A24COM            \n",
       "14395  FilmusDaniel      \n",
       "10917  FernandezAnibal   \n",
       "36218  noticiasrevista   \n",
       "6369   diputadasoraire   \n",
       "8550   RicBenedetti      \n",
       "7618   VitoMundial       \n",
       "30300  izquierdadiario   \n",
       "17681  guillermomadero   \n",
       "17312  connieansaldi     \n",
       "27095  DelfinoLucasOk    \n",
       "6653   BarbieriVero      \n",
       "34213  nciudad           \n",
       "14828  RCSalvarezza      \n",
       "29286  UniCiudadanaAR    \n",
       "32499  AngeldebritoOk    \n",
       "8913   Gatosylvestre     \n",
       "28818  FedericoAchaval   \n",
       "10921  populardiario     \n",
       "\n",
       "                                                                                                                                                            description  \\\n",
       "3837   Noticias desde Buenos Aires, Argentina. Periodismo puro en tiempo real.                                                                                            \n",
       "46     Concejal de mi querida ciudad de #LaPlata #UnidadCiudadana      Instagram: http://instagram.com/vtolosapaz/   Facebook: http://facebook.com/vtolosapaz/            \n",
       "9818   Periodista                                                                                                                                                         \n",
       "28480  US Correspondent for @LANACION. My tweets, my opinions. MDZ-MAD-BUE-Brooklyn🙌🏻-DC                                                                                  \n",
       "21283  Polémico, Argentino nativo, latinoamericano adoptivo Pte en @EnacArgentina y #antiCEO en @EmpresarialARG 💪 Ni Aristocracia ni Ceocracia, Democracia                \n",
       "17052  FM 89.9 · Escuchanos también online http://www.radioconvos.com.ar o por la app radioconvos | Escribinos tu mensaje Wtspp 15-5379-8990 Insta/Face: radioconvos899   \n",
       "16342  Diario digital Rosario 🗞️💻🇦🇷// Libertad con Responsabilidad // #Ciudad #Deportes #Política #Mundo #Economía #Espectáculos #Policiales #Tecnología                  \n",
       "35774  Periodista en La Nacion, publiqué un libro sobre el #Indec, licenciado en Comunicación Social de la UBA. De #Boca. https://www.instagram.com/fjueguen 🏄‍♂️         \n",
       "34695  Militante en la Defensa de los Derechos Humanos, Diputado Nacional @UniCiudadanaAr 🇦🇷 por la Provincia de Buenos Aires. La Cámpora @AbuelasDifusion mi Familia     \n",
       "34043  Cuenta de Radio 10 AM 710 | https://www.facebook.com/radio10/ https://www.pscp.tv/Radio10AM710 Bajate la #App http://minutouno.com  [Whatsapp] 1150050710          \n",
       "31441  Ingeniero agrónomo. Diputado Nacional. Creo en la cultura del encuentro. Trabajo por un país más justo. #EsConTodos                                                \n",
       "2407   Cuenta oficial de la señal de noticias A24. Mantenete informado en  http://a24.com                                                                                 \n",
       "14395  Diputado nacional por la CABA Unidad Porteña bloque @DiputadosFPV_pj. Ex ministro de Educación. Sociólogo. Profesor de la UBA. Hincha de @SanLorenzo.              \n",
       "10917  Peronista, abogado y contador, ricotero, hincha de Quilmes. NK y CFK esencia del peronismo. NO QUIERAN INVENTAR                                                    \n",
       "36218  Bienvenidos a la cuenta oficial de Revista Noticias, el newsmagazine de lengua hispana más leído del mundo.                                                        \n",
       "6369   Diputada Nacional por la Prov. de Tucumán. FPV-PJ . Militante del Movimiento Nacional Justicialista. Secretaria en la Comisión de Relaciones Exteriores y Culto    \n",
       "8550   Escritor. Casado, 4 hijos. Coordinador de Análisis y Control de Gestión del @SFMyC. Miembro del @CPA_Arg 💙💛💙  http://instagram.com/ricbenedetti                    \n",
       "7618   Periodista. Prosecretario Redacción Diario La Capital Mar del Plata, comentarista LU6 Radio Atlántica, 8 mundiales,2 libros. Abrazo Ciudadano. Unidad Ciudadana.   \n",
       "30300  El primer diario digital de la izquierda, impulsado por el @PTSarg en el @Fte_Izquierda.  Hacemos radio en @circulorojo899. 📻 https://t.co/C07DJntIJA              \n",
       "17681  Lic. en Ciencia Política, diplomado Seguridad y Defensa. Director de Seguridad en Espectáculos Futbolísticos del @MinSeg donde trabajo por una #TribunaSegura      \n",
       "17312  Yo 🚀👉🏻 http://nuclearbranding.com Consultoría . Estrategias Creativas para una Nueva Era. DESIGN THINKER 💡                                                         \n",
       "27095  Papá de Olivia | Vecino y Concejal de #Hurlingham | SS de Rel. Municipales de la Nación | Politólogo | Además escribí un libro #LaRevolucionDeLosMunicipios 📚      \n",
       "6653   Lic. en Gobierno y RRII / Diputada Provincial / Presidenta de la Comisión de Políticas Sociales / Presidenta JPro Buenos Aires /                                   \n",
       "34213  El sitio de noticias porteñas más leído en las redes sociales                                                                                                      \n",
       "14828  Diputado Nacional por la Provincia de Buenos Aires #UnidadCiudadana. Doctor en Bioquímica. Ex presidente del CONICET (2012-2015).                                  \n",
       "29286  Unite. Hay otro camino ☀️                                                                                                                                          \n",
       "32499  @losangeles_ok #LAM @eltrecetv 1030 AM #ElEspectador @cnnradioarg AM950 2PM                                                                                        \n",
       "8913   Periodista. Analista político. Conductor de Mañana Sylvestre en Radio 10 (L a V 6 a 10hs)y de M1 en @c5n, de 20 a 22 de Lunes a Viernes                            \n",
       "28818  Concejal de Pilar                                                                                                                                                  \n",
       "10921  Bienvenidos al Twitter oficial de Popular. Seguinos y sumate a nuestra comunidad. Las noticias como a vos te gustan. #SomosPopu                                    \n",
       "\n",
       "       n_tweets  followers_count  \n",
       "3837   11        756817           \n",
       "46     10        22791            \n",
       "9818   7         391666           \n",
       "28480  5         6133             \n",
       "21283  5         59463            \n",
       "17052  5         109315           \n",
       "16342  5         19471            \n",
       "35774  3         21286            \n",
       "34695  3         47343            \n",
       "34043  3         286022           \n",
       "31441  3         193359           \n",
       "2407   3         451168           \n",
       "14395  3         333585           \n",
       "10917  3         983217           \n",
       "36218  3         267124           \n",
       "6369   3         896              \n",
       "8550   2         89544            \n",
       "7618   2         9754             \n",
       "30300  2         61402            \n",
       "17681  2         13049            \n",
       "17312  2         1483880          \n",
       "27095  2         26950            \n",
       "6653   2         9787             \n",
       "34213  2         34860            \n",
       "14828  2         14716            \n",
       "29286  2         126250           \n",
       "32499  2         3135740          \n",
       "8913   2         426065           \n",
       "28818  2         17202            \n",
       "10921  2         74830            "
      ]
     },
     "execution_count": 12,
     "metadata": {},
     "output_type": "execute_result"
    }
   ],
   "source": [
    "verified.sort_values(by='n_tweets', ascending=False).head(30)[\n",
    "   [\"screen_name\",  \"description\", \"n_tweets\", \"followers_count\"]\n",
    "]"
   ]
  }
 ],
 "metadata": {
  "colab": {
   "default_view": {},
   "name": "1.0-análisis-tweets-mongo.ipynb",
   "provenance": [],
   "version": "0.3.2",
   "views": {}
  },
  "kernelspec": {
   "display_name": "Python [conda env:escucha-tec-notebooks] *",
   "language": "python",
   "name": "conda-env-escucha-tec-notebooks-py"
  },
  "language_info": {
   "codemirror_mode": {
    "name": "ipython",
    "version": 3
   },
   "file_extension": ".py",
   "mimetype": "text/x-python",
   "name": "python",
   "nbconvert_exporter": "python",
   "pygments_lexer": "ipython3",
   "version": "3.6.8"
  }
 },
 "nbformat": 4,
 "nbformat_minor": 1
}
